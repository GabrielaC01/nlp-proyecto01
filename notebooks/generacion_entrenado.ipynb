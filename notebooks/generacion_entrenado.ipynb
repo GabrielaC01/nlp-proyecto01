{
 "cells": [
  {
   "cell_type": "code",
   "execution_count": 10,
   "id": "1766bc36",
   "metadata": {},
   "outputs": [],
   "source": [
    "import sys\n",
    "sys.path.append(\"../src\")  "
   ]
  },
  {
   "cell_type": "code",
   "execution_count": 26,
   "id": "46c11bb0",
   "metadata": {},
   "outputs": [],
   "source": [
    "import torch\n",
    "import torch.nn as nn\n",
    "import torch.nn.functional as F\n",
    "from modelo_autoregresivo import ModeloAutoregresivo\n",
    "from generacion import GeneradorTexto \n",
    "import pickle\n",
    "import json\n",
    "import math"
   ]
  },
  {
   "cell_type": "code",
   "execution_count": 27,
   "id": "95a82b63",
   "metadata": {},
   "outputs": [],
   "source": [
    "# Cargar datos\n",
    "with open(\"secuencias.pkl\", \"rb\") as f:\n",
    "    secuencias = pickle.load(f)"
   ]
  },
  {
   "cell_type": "code",
   "execution_count": 28,
   "id": "2a86a43f",
   "metadata": {},
   "outputs": [],
   "source": [
    "# Preparamos datos para entrenamiento\n",
    "x_train = []\n",
    "y_train = []\n",
    "\n",
    "for seq in secuencias:\n",
    "    if len(seq) < 2:\n",
    "        continue\n",
    "    x_train.append(seq[:-1])  # input sin el último token\n",
    "    y_train.append(seq[1:])   # target sin el primero\n",
    "\n",
    "# Padding manual para igualar longitudes\n",
    "max_len = max(len(seq) for seq in x_train)\n",
    "\n",
    "for i in range(len(x_train)):\n",
    "    x_train[i] += [0] * (max_len - len(x_train[i]))\n",
    "    y_train[i] += [0] * (max_len - len(y_train[i]))\n",
    "\n",
    "x_train = torch.tensor(x_train)\n",
    "y_train = torch.tensor(y_train)"
   ]
  },
  {
   "cell_type": "code",
   "execution_count": 29,
   "id": "30b36bc3",
   "metadata": {},
   "outputs": [
    {
     "name": "stdout",
     "output_type": "stream",
     "text": [
      "Época 1, Pérdida promedio: 0.2504, Perplejidad: 1.28\n",
      "Época 2, Pérdida promedio: 0.3676, Perplejidad: 1.44\n",
      "Época 3, Pérdida promedio: 0.2243, Perplejidad: 1.25\n",
      "Época 4, Pérdida promedio: 0.1473, Perplejidad: 1.16\n",
      "Época 5, Pérdida promedio: 0.1699, Perplejidad: 1.19\n",
      "Época 6, Pérdida promedio: 0.2219, Perplejidad: 1.25\n",
      "Época 7, Pérdida promedio: 0.1865, Perplejidad: 1.20\n",
      "Época 8, Pérdida promedio: 0.2041, Perplejidad: 1.23\n",
      "Época 9, Pérdida promedio: 0.1773, Perplejidad: 1.19\n",
      "Época 10, Pérdida promedio: 0.2153, Perplejidad: 1.24\n",
      "Época 11, Pérdida promedio: 0.2836, Perplejidad: 1.33\n",
      "Época 12, Pérdida promedio: 0.1545, Perplejidad: 1.17\n",
      "Época 13, Pérdida promedio: 0.1398, Perplejidad: 1.15\n",
      "Época 14, Pérdida promedio: 0.1649, Perplejidad: 1.18\n",
      "Época 15, Pérdida promedio: 0.1356, Perplejidad: 1.15\n",
      "Época 16, Pérdida promedio: 0.1655, Perplejidad: 1.18\n",
      "Época 17, Pérdida promedio: 0.1582, Perplejidad: 1.17\n",
      "Época 18, Pérdida promedio: 0.0972, Perplejidad: 1.10\n",
      "Época 19, Pérdida promedio: 0.1687, Perplejidad: 1.18\n",
      "Época 20, Pérdida promedio: 0.1712, Perplejidad: 1.19\n"
     ]
    }
   ],
   "source": [
    "# Función de pérdida y optimizador\n",
    "criterio = nn.CrossEntropyLoss(ignore_index=0)\n",
    "optimizador = torch.optim.Adam(modelo.parameters(), lr=0.001)\n",
    "\n",
    "# Entrenamiento simple\n",
    "modelo.train()\n",
    "epocas = 20\n",
    "\n",
    "for epoca in range(epocas):\n",
    "    total_loss = 0\n",
    "    for i in range(len(x_train)):\n",
    "        entrada = x_train[i].unsqueeze(0)\n",
    "        objetivo = y_train[i].unsqueeze(0)\n",
    "\n",
    "        logits = modelo(entrada)\n",
    "        logits = logits.view(-1, vocab_size)\n",
    "        objetivo = objetivo.view(-1)\n",
    "\n",
    "        loss = criterio(logits, objetivo)\n",
    "\n",
    "        optimizador.zero_grad()\n",
    "        loss.backward()\n",
    "        optimizador.step()\n",
    "\n",
    "        total_loss += loss.item()\n",
    "\n",
    "    perplejidad = math.exp(total_loss / len(x_train))\n",
    "    print(f\"Época {epoca+1}, Pérdida promedio: {total_loss / len(x_train):.4f}, Perplejidad: {perplejidad:.2f}\")\n",
    "\n",
    "# Guardar el modelo entrenado\n",
    "torch.save(modelo.state_dict(), \"modelo_entrenado.pth\")\n"
   ]
  },
  {
   "cell_type": "code",
   "execution_count": 30,
   "id": "4536da05",
   "metadata": {},
   "outputs": [],
   "source": [
    "# Cargar vocabulario \n",
    "with open(\"vocab.json\", \"r\", encoding=\"utf-8\") as f:\n",
    "    vocab = json.load(f)\n",
    "inv_vocab = {v: k for k, v in vocab.items()}\n",
    "vocab_size = len(vocab)"
   ]
  },
  {
   "cell_type": "code",
   "execution_count": 31,
   "id": "20703066",
   "metadata": {},
   "outputs": [
    {
     "data": {
      "text/plain": [
       "ModeloAutoregresivo(\n",
       "  (embedding): Embedding(23, 128)\n",
       "  (pos_encoder): PositionalEncoding()\n",
       "  (transformer_decoder): TransformerDecoder(\n",
       "    (layers): ModuleList(\n",
       "      (0-1): 2 x TransformerDecoderLayer(\n",
       "        (self_attn): MultiheadAttention(\n",
       "          (out_proj): NonDynamicallyQuantizableLinear(in_features=128, out_features=128, bias=True)\n",
       "        )\n",
       "        (multihead_attn): MultiheadAttention(\n",
       "          (out_proj): NonDynamicallyQuantizableLinear(in_features=128, out_features=128, bias=True)\n",
       "        )\n",
       "        (linear1): Linear(in_features=128, out_features=512, bias=True)\n",
       "        (dropout): Dropout(p=0.1, inplace=False)\n",
       "        (linear2): Linear(in_features=512, out_features=128, bias=True)\n",
       "        (norm1): LayerNorm((128,), eps=1e-05, elementwise_affine=True)\n",
       "        (norm2): LayerNorm((128,), eps=1e-05, elementwise_affine=True)\n",
       "        (norm3): LayerNorm((128,), eps=1e-05, elementwise_affine=True)\n",
       "        (dropout1): Dropout(p=0.1, inplace=False)\n",
       "        (dropout2): Dropout(p=0.1, inplace=False)\n",
       "        (dropout3): Dropout(p=0.1, inplace=False)\n",
       "      )\n",
       "    )\n",
       "  )\n",
       "  (fc_out): Linear(in_features=128, out_features=23, bias=True)\n",
       ")"
      ]
     },
     "execution_count": 31,
     "metadata": {},
     "output_type": "execute_result"
    }
   ],
   "source": [
    "# Crear modelo\n",
    "modelo = ModeloAutoregresivo(vocab_size)\n",
    "modelo.load_state_dict(torch.load(\"modelo_entrenado.pth\"))\n",
    "modelo.eval()"
   ]
  },
  {
   "cell_type": "code",
   "execution_count": 32,
   "id": "960df903",
   "metadata": {},
   "outputs": [
    {
     "name": "stdout",
     "output_type": "stream",
     "text": [
      "Texto generado: hod uemu unoueueueueueueueueueue\n"
     ]
    }
   ],
   "source": [
    "# Crear generador\n",
    "generador = GeneradorTexto(modelo, inv_vocab)\n",
    "\n",
    "secuencia_inicial = \"ho\"\n",
    "entrada = torch.tensor([[vocab[c] for c in secuencia_inicial]])\n",
    "\n",
    "# Generar texto\n",
    "texto_generado = generador.generar_greedy(entrada, num_tokens=30)\n",
    "print(\"Texto generado:\", texto_generado)\n"
   ]
  }
 ],
 "metadata": {
  "kernelspec": {
   "display_name": ".venv",
   "language": "python",
   "name": "python3"
  },
  "language_info": {
   "codemirror_mode": {
    "name": "ipython",
    "version": 3
   },
   "file_extension": ".py",
   "mimetype": "text/x-python",
   "name": "python",
   "nbconvert_exporter": "python",
   "pygments_lexer": "ipython3",
   "version": "3.10.12"
  }
 },
 "nbformat": 4,
 "nbformat_minor": 5
}
