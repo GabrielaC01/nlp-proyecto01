{
 "cells": [
  {
   "cell_type": "code",
   "execution_count": 1,
   "id": "555ed6dc",
   "metadata": {},
   "outputs": [],
   "source": [
    "import sys\n",
    "sys.path.append(\"../src\")  "
   ]
  },
  {
   "cell_type": "code",
   "execution_count": 2,
   "id": "021a76c0",
   "metadata": {},
   "outputs": [],
   "source": [
    "import torch\n",
    "import torch.nn as nn\n",
    "import torch.nn.functional as F\n",
    "import matplotlib.pyplot as plt\n",
    "import seaborn as sns\n",
    "import pickle\n",
    "import json\n",
    "import math\n",
    "from modelo_autoregresivo import ModeloAutoregresivo\n",
    "from generacion import GeneradorTexto"
   ]
  },
  {
   "cell_type": "code",
   "execution_count": 3,
   "id": "e795376b",
   "metadata": {},
   "outputs": [],
   "source": [
    "# Cargar vocabulario y datos\n",
    "with open(\"vocab.json\", \"r\", encoding=\"utf-8\") as f:\n",
    "    vocab = json.load(f)\n",
    "inv_vocab = {v: k for k, v in vocab.items()}\n",
    "vocab_size = len(vocab)"
   ]
  },
  {
   "cell_type": "code",
   "execution_count": 4,
   "id": "35ac4a3f",
   "metadata": {},
   "outputs": [],
   "source": [
    "# Cargar modelo entrenado\n",
    "modelo = ModeloAutoregresivo(vocab_size)\n",
    "modelo.load_state_dict(torch.load(\"modelo_entrenado.pth\"))\n",
    "modelo.eval()\n",
    "\n",
    "# Crear generador\n",
    "generador = GeneradorTexto(modelo, inv_vocab)"
   ]
  },
  {
   "cell_type": "code",
   "execution_count": 5,
   "id": "9cb9f14e",
   "metadata": {},
   "outputs": [],
   "source": [
    "# Texto inicial\n",
    "secuencia_inicial = \"ho\"\n",
    "entrada = torch.tensor([[vocab[c] for c in secuencia_inicial]])"
   ]
  },
  {
   "cell_type": "code",
   "execution_count": 6,
   "id": "06e78e7b",
   "metadata": {},
   "outputs": [
    {
     "name": "stdout",
     "output_type": "stream",
     "text": [
      "Generación con distintas temperaturas\n",
      "Temperatura 0.2: hoaeraaaaaaaaaaaaaaaaaaaaaaaaaaa\n",
      "Temperatura 0.8: hor<pad>mcsaea arkrs s l mses lerese\n",
      "Temperatura 1.2: hoakeracsáimesea oea efgitrohliá\n"
     ]
    }
   ],
   "source": [
    "# Muestreo por temperatura \n",
    "temperaturas = [0.2, 0.8, 1.2]\n",
    "print(\"Generación con distintas temperaturas\")\n",
    "for T in temperaturas:\n",
    "    generado = generador.generar_con_temperatura(entrada, num_tokens=30, temperatura=T)\n",
    "    print(f\"Temperatura {T}: {generado}\")\n"
   ]
  },
  {
   "cell_type": "code",
   "execution_count": 7,
   "id": "eb9b5f9c",
   "metadata": {},
   "outputs": [
    {
     "name": "stdout",
     "output_type": "stream",
     "text": [
      "Generación con distintos top-k\n",
      "Top-k 5: hor onunrvs osioeos nunnielunócn\n",
      "Top-k 20: ho<pad>nimuslamlclgrmfuseaolfseloá t\n",
      "Top-k 50: hoaaá orlpes rroscóneoomosemspav\n"
     ]
    }
   ],
   "source": [
    "# Muestreo por top-k \n",
    "top_ks = [5, 20, 50]\n",
    "print(\"Generación con distintos top-k\")\n",
    "for k in top_ks:\n",
    "    generado = generador.generar_top_k(entrada, num_tokens=30, k=k)\n",
    "    print(f\"Top-k {k}: {generado}\")"
   ]
  },
  {
   "cell_type": "code",
   "execution_count": 8,
   "id": "03d31a47",
   "metadata": {},
   "outputs": [
    {
     "data": {
      "image/png": "[encoded data removed]",
      "text/plain": [
       "<Figure size 800x500 with 1 Axes>"
      ]
     },
     "metadata": {},
     "output_type": "display_data"
    }
   ],
   "source": [
    "# Diversidad vs Temperatura \n",
    "def diversidad_ngramas(texto, n=3):\n",
    "    return len(set([texto[i:i+n] for i in range(len(texto)-n+1)]))\n",
    "\n",
    "temperaturas = [0.1, 0.4, 0.7, 1.0, 1.5]\n",
    "diversidades = []\n",
    "\n",
    "for T in temperaturas:\n",
    "    generado = generador.generar_con_temperatura(entrada, num_tokens=50, temperatura=T)\n",
    "    diversidad = diversidad_ngramas(generado)\n",
    "    diversidades.append(diversidad)\n",
    "\n",
    "plt.figure(figsize=(8,5))\n",
    "sns.scatterplot(x=temperaturas, y=diversidades)\n",
    "plt.title(\"Diversidad vs Temperatura\")\n",
    "plt.xlabel(\"Temperatura\")\n",
    "plt.ylabel(\"N-gramas únicos (n=3)\")\n",
    "plt.grid(True)\n",
    "plt.show()"
   ]
  }
 ],
 "metadata": {
  "kernelspec": {
   "display_name": ".venv",
   "language": "python",
   "name": "python3"
  },
  "language_info": {
   "codemirror_mode": {
    "name": "ipython",
    "version": 3
   },
   "file_extension": ".py",
   "mimetype": "text/x-python",
   "name": "python",
   "nbconvert_exporter": "python",
   "pygments_lexer": "ipython3",
   "version": "3.10.12"
  }
 },
 "nbformat": 4,
 "nbformat_minor": 5
}
